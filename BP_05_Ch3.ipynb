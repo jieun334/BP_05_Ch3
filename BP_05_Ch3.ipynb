{
  "nbformat": 4,
  "nbformat_minor": 0,
  "metadata": {
    "colab": {
      "provenance": [],
      "authorship_tag": "ABX9TyOzWpiu7sIEdv/Jf+TUa0lT",
      "include_colab_link": true
    },
    "kernelspec": {
      "name": "python3",
      "display_name": "Python 3"
    },
    "language_info": {
      "name": "python"
    }
  },
  "cells": [
    {
      "cell_type": "markdown",
      "metadata": {
        "id": "view-in-github",
        "colab_type": "text"
      },
      "source": [
        "<a href=\"https://colab.research.google.com/github/jieun334/BP_05_Ch3/blob/main/BP_05_Ch3.ipynb\" target=\"_parent\"><img src=\"https://colab.research.google.com/assets/colab-badge.svg\" alt=\"Open In Colab\"/></a>"
      ]
    },
    {
      "cell_type": "markdown",
      "source": [
        "1. 사용자로부터 두 개의 정수를 받아서 정수의 합, 정수의 차, 정수의 곱, 정수의 평균, 큰 수, 작은 수를 계산하여 화면에 출력하는 프로그램을 작성하라. 파이썬이 제공하는 내장 함수 max(x, y), min(x, y)을 사용해보자."
      ],
      "metadata": {
        "id": "CR1EbpRdbMOv"
      }
    },
    {
      "cell_type": "code",
      "source": [
        "x = int(input(\"x의 값은? :  \"))\n",
        "y = int(input(\"y의 값은? : \"))\n",
        "\n",
        "print(\"두 수의 합은 :\", x+y)\n",
        "print(\"두 수의 차는 :\", x-y)\n",
        "print(\"두 수의 곱은 :\", x*y)\n",
        "print(\"두 수의 평균은 :\", (x+y)/2)\n",
        "print(\"큰 수는 :\", max(x,y))\n",
        "print(\"작은 수는 :\", min(x,y))"
      ],
      "metadata": {
        "colab": {
          "base_uri": "https://localhost:8080/"
        },
        "id": "IQ8455vMbPlw",
        "outputId": "c343b595-2754-4869-c9e0-d834541417d7"
      },
      "execution_count": 1,
      "outputs": [
        {
          "output_type": "stream",
          "name": "stdout",
          "text": [
            "x의 값은? :  10\n",
            "y의 값은? : 20\n",
            "두 수의 합은 : 30\n",
            "두 수의 차는 : -10\n",
            "두 수의 곱은 : 200\n",
            "두 수의 평균은 : 15.0\n",
            "큰 수는 : 20\n",
            "작은 수는 : 10\n"
          ]
        }
      ]
    },
    {
      "cell_type": "markdown",
      "source": [
        "2. 원기둥의 부피를 계산하는 프로그램을 작성해보자. 원기둥의 부피는 다음과 같이 계산한다."
      ],
      "metadata": {
        "id": "kqfkM03BbZMl"
      }
    },
    {
      "cell_type": "code",
      "source": [
        "r = float(input(\"r 값은? : \"))\n",
        "h = float(input(\"h 값은? : \"))\n",
        "\n",
        "vol = 3.141592*r**2 * h\n",
        "print(\"원기둥의 부피는\", vol)"
      ],
      "metadata": {
        "colab": {
          "base_uri": "https://localhost:8080/"
        },
        "id": "zIbibakcbc6i",
        "outputId": "1317362a-50b3-4218-c26d-20e56beda837"
      },
      "execution_count": 2,
      "outputs": [
        {
          "output_type": "stream",
          "name": "stdout",
          "text": [
            "r 값은? : 10\n",
            "h 값은? : 100\n",
            "원기둥의 부피는 31415.92\n"
          ]
        }
      ]
    },
    {
      "cell_type": "markdown",
      "source": [
        "3. 사용자로부터 정수를 받아서 정수의 자리수의 합을 계산하는 프로그램을 작성하여 보자. 예를 들어서 사용자가 1234를 입력하였다면 1+2+3+4를 계산하면 된다. 나머지 연산자와 정수 나눗셈 연산자 //를 적극적으로 사용해보자."
      ],
      "metadata": {
        "id": "HAhnJ9CBbnuQ"
      }
    },
    {
      "cell_type": "code",
      "source": [
        "number = int(input(\"정수를 입력하시오. : \"))\n",
        "\n",
        "sum = 0\n",
        "sum = sum+number % 10\n",
        "number = number // 10\n",
        "\n",
        "sum = sum+number % 10\n",
        "number = number // 10\n",
        "\n",
        "sum = sum+number % 10\n",
        "number = number // 10\n",
        "\n",
        "sum = sum+number % 10\n",
        "number = number // 10\n",
        "\n",
        "print(\"자리수의 합은\", str(sum))"
      ],
      "metadata": {
        "colab": {
          "base_uri": "https://localhost:8080/"
        },
        "id": "pGV6cueCbpGH",
        "outputId": "b6e2b02d-4489-487d-b1bd-a3cddd0fb543"
      },
      "execution_count": 3,
      "outputs": [
        {
          "output_type": "stream",
          "name": "stdout",
          "text": [
            "정수를 입력하시오. : 1234\n",
            "자리수의 합은 10\n"
          ]
        }
      ]
    },
    {
      "cell_type": "markdown",
      "source": [
        "4. 사용자로부터 두 점의 좌표 (xl, yl)과 (x2, y2)를 입력받아서 두 점 사이의 거리를 계산하는 프로그램을 작성해보자. 스크립트 모드로 작성하라. 거리는 다음 식으로 계산한다."
      ],
      "metadata": {
        "id": "oFCTwvW1byuY"
      }
    },
    {
      "cell_type": "code",
      "source": [
        "x1 = int(input(\"x1의 값을 입력하시오 : \"))\n",
        "x2 = int(input(\"x2의 값을 입력하시오 : \"))\n",
        "y1 = int(input(\"y1의 값을 입력하시오 : \"))\n",
        "y2 = int(input(\"y2의 값을 입력하시오 : \"))\n",
        "dist = ((x2-x1)**2 + (y2-y1)**2)** 0.5\n",
        "print(\"두 점 사이의 거리는\", dist, \"입니다.\")"
      ],
      "metadata": {
        "colab": {
          "base_uri": "https://localhost:8080/"
        },
        "id": "WVpjv22jbz-x",
        "outputId": "b82ccc6c-69e5-4723-ca62-743240bcb5fd"
      },
      "execution_count": 4,
      "outputs": [
        {
          "output_type": "stream",
          "name": "stdout",
          "text": [
            "x1의 값을 입력하시오 : 0\n",
            "x2의 값을 입력하시오 : 100\n",
            "y1의 값을 입력하시오 : 0\n",
            "y2의 값을 입력하시오 : 100\n",
            "두 점 사이의 거리는 141.4213562373095 입니다.\n"
          ]
        }
      ]
    },
    {
      "cell_type": "markdown",
      "source": [
        "5. 4번 문제에서 계산한 거리가 맞는지, 터틀 그래픽으로 확인해보자. 거북이를 왼쪽으로 45도 회전하여 141만큼 전진시킨다. 다시 거북이를 (0, 0)으로 이동하고 0도를 가리키게 한 후에 100만큼 전진하고 왼쪽으로 90도 회전하여 100만큼 전진한다. 화면에 그려진 직선이 일치하는가?"
      ],
      "metadata": {
        "id": "i-ZBdPZIcATC"
      }
    },
    {
      "cell_type": "code",
      "source": [
        "import turtle\n",
        "t = turtle.Turtle()\n",
        "t.shape(turtle)\n",
        "t.shape(\"turtle\")\n",
        "t.left(45)\n",
        "t.forward(141)\n",
        "t.setheading(0)\n",
        "t.goto(0,0)\n",
        "t.forward(100)\n",
        "t.left(90)\n",
        "t.forward(100)"
      ],
      "metadata": {
        "id": "zt-HZMhxcBlD"
      },
      "execution_count": null,
      "outputs": []
    },
    {
      "cell_type": "markdown",
      "source": [
        "6. 사용자로부터 두 점을 입력받아서 터틀 그래픽을 이용하여 두 점을 연결하는 직선을 그린다. 직선의 끝점에 직선의 길이를 계산하여 출력해보자."
      ],
      "metadata": {
        "id": "Qt08oWv-cEEO"
      }
    },
    {
      "cell_type": "code",
      "source": [
        "import turtle\n",
        "t = turtle.Turtle()\n",
        "t.shape(\"turtle\")\n",
        "x1 = int(input(\"x1\"))\n",
        "x10\n",
        "y1 = int(input(\"y1\"))\n",
        "y10\n",
        "x2 = int(input(\"x2\"))\n",
        "x2100\n",
        "y2 = int(input(\"y2\"))\n",
        "y2100\n",
        "dist = ((x1-x2)**2 + (y1-y2)**2)** 0.5\n",
        "t.up()\n",
        "t.goto(x1,y1)\n",
        "t.down()\n",
        "t.goto(x2,y2)\n",
        "t.write(\"점의 길이=\" + str(dist))"
      ],
      "metadata": {
        "id": "BmwIbH2WcG1t"
      },
      "execution_count": null,
      "outputs": []
    },
    {
      "cell_type": "markdown",
      "source": [
        "7. 파이썬에서 time()을 호출하면 1970년 1월 1일 이후 흘러온 전체 초가 반환된다. 이것을 적절하게 나누거나 나머지를 구해서 현재 시간의 시와 분을 계산할 수 있을까?"
      ],
      "metadata": {
        "id": "j267jkCxcJZb"
      }
    },
    {
      "cell_type": "code",
      "source": [
        "import time\n",
        "fseconds = time.time()\n",
        "min = int((fseconds //60) %60)\n",
        "hour = int(min//60)\n",
        "\n",
        "print(\"현재 시간(영국 그리니치 시각):\", hour, \"시\", min, \"분\")"
      ],
      "metadata": {
        "colab": {
          "base_uri": "https://localhost:8080/"
        },
        "id": "9x77kk_Hc9Lb",
        "outputId": "c8e0d734-5bd0-4edd-d66a-2d7aafe9d43e"
      },
      "execution_count": 5,
      "outputs": [
        {
          "output_type": "stream",
          "name": "stdout",
          "text": [
            "현재 시간(영국 그리니치 시각): 0 시 46 분\n"
          ]
        }
      ]
    },
    {
      "cell_type": "markdown",
      "source": [
        "8. 움직이는 물체의 운동에너지를 계산해보자. 물체의 에너지를 계산하는 식은 1/2*무게*속도*2이다."
      ],
      "metadata": {
        "id": "OFkq7ZKFdv8a"
      }
    },
    {
      "cell_type": "code",
      "source": [
        "w = int(input(\"물체의 무게를 입력하시오(킬로그램) : \"))\n",
        "s = int(input(\"물체의 속도를 입력하시오(미터/초) : \"))\n",
        "\n",
        "print(\"물체는\", 1/2*w*s**2, \"(줄)의 에너지를 가지고 있다.\")"
      ],
      "metadata": {
        "colab": {
          "base_uri": "https://localhost:8080/"
        },
        "id": "TPFoA321eABN",
        "outputId": "e62e82db-ae6f-439c-8003-61769074d8d4"
      },
      "execution_count": 6,
      "outputs": [
        {
          "output_type": "stream",
          "name": "stdout",
          "text": [
            "물체의 무게를 입력하시오(킬로그램) : 10\n",
            "물체의 속도를 입력하시오(미터/초) : 100\n",
            "물체는 50000.0 (줄)의 에너지를 가지고 있다.\n"
          ]
        }
      ]
    }
  ]
}